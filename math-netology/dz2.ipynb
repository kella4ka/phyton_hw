{
 "cells": [
  {
   "cell_type": "markdown",
   "metadata": {},
   "source": [
    "                                                Домашнее задание №2"
   ]
  },
  {
   "cell_type": "code",
   "execution_count": 16,
   "metadata": {},
   "outputs": [],
   "source": [
    "import numpy as np\n",
    "import matplotlib.pyplot as plt\n",
    "import pandas as pd\n",
    "%matplotlib inline"
   ]
  },
  {
   "cell_type": "code",
   "execution_count": 98,
   "metadata": {},
   "outputs": [],
   "source": [
    "##Задание №1\n",
    "designer = set(['Серов', 'Левитан', 'Репин', 'Васнецов', 'Шишкин'])"
   ]
  },
  {
   "cell_type": "code",
   "execution_count": 99,
   "metadata": {},
   "outputs": [],
   "source": [
    "dict_designer = dict()\n",
    "dict_designer['Серов'] = ['Девочка с персиками']\n",
    "dict_designer['Левитан'] = ['Золотая осень', 'Март']\n",
    "dict_designer['Репин'] = ['Запорожцы', 'Буралки на Волге']\n",
    "dict_designer['Васнецов'] = ['Богатыри', 'Алёнушка']\n",
    "dict_designer['Шишкин'] = ['Утро в сосновом бору']"
   ]
  },
  {
   "cell_type": "code",
   "execution_count": 102,
   "metadata": {},
   "outputs": [
    {
     "name": "stdout",
     "output_type": "stream",
     "text": [
      "Репин: Запорожцы, Буралки на Волге, \n",
      "Левитан: Золотая осень, Март, \n",
      "Васнецов: Богатыри, Алёнушка, \n",
      "Шишкин: Утро в сосновом бору, \n",
      "Серов: Девочка с персиками, \n"
     ]
    }
   ],
   "source": [
    "for el in designer:\n",
    "    pictures = ''\n",
    "    for picture in dict_designer[el]:\n",
    "        pictures += picture + ', '\n",
    "    print(el + ': '+ pictures)"
   ]
  },
  {
   "cell_type": "markdown",
   "metadata": {},
   "source": [
    "#Задание №2\n",
    "Найти из следующих функций те, которые являются полиномиальной функцией.\n",
    "1) f1(x) = 1/2x^6 - 11/6x +1/3 - полином 6ой степени\n",
    "2) f2(x) = 1/6*(3x^6 - 11x + 2) = f1(x)\n",
    "3) f3(x) = 1/(6x)*(3x^6 - 11x + 2) = f1(x)/x - не является полиномиальной функцией\n",
    "4) f4(x) = x^5 - 3x^2 + 7x^(-2) - не является полиномом\n",
    "5) f5(x) = (5x^2 - 2)^3 - 1/2*x^3 - полином 6ой степени\n",
    "6) f6(x) = (1+x^(1/2))^3 - 5(1+x^(1/2)) - не является полиномом\n",
    "7) f7(x) = pi - полином нулевой степени"
   ]
  },
  {
   "cell_type": "markdown",
   "metadata": {},
   "source": [
    "#Задание №3\n",
    "(2x+1)^2(x-1)-x(4x^2-1)-x(4x^2-1) = (2x+1)^2(x-1) - 2x(4x^2-1) = (2x+1)^2(x-1) - 2x(2x-1)(2x+1) = (2x+1)*((2x+1)(x-1) - 2x(2x-1)) = (2x+1)(2x^2-2x+x-1-4x^2+2x) = (2x+1)(-2x^2+x-1) = -4x^3+2x^2-2x-2x^2+x-1=-4x^3-x-1\n",
    "\n",
    "Коэффициенты: a = -4; b = 0; c = -1; d = -1."
   ]
  },
  {
   "cell_type": "code",
   "execution_count": 17,
   "metadata": {},
   "outputs": [],
   "source": [
    "from math import pow\n",
    "def func(x):\n",
    "    y = -4*pow(x, 3) - x - 1\n",
    "    return y"
   ]
  },
  {
   "cell_type": "code",
   "execution_count": 19,
   "metadata": {},
   "outputs": [
    {
     "data": {
      "image/png": "[encoded data removed]",
      "text/plain": [
       "<Figure size 432x288 with 1 Axes>"
      ]
     },
     "metadata": {
      "needs_background": "light"
     },
     "output_type": "display_data"
    }
   ],
   "source": [
    "# создаем вектор x\n",
    "x1 = np.linspace(-5.0, 5.0, 100)\n",
    "# на основе вектора x строим значения для вектора y\n",
    "y1 = [func(x1[i]) for i in range(len(x1))]\n",
    "\n",
    "plt.plot(x1, y1)\n",
    "plt.title('График функции')\n",
    "plt.ylabel('y')\n",
    "plt.xlabel('x')\n",
    "plt.show()"
   ]
  },
  {
   "cell_type": "markdown",
   "metadata": {},
   "source": [
    "**Задание 4**.\n",
    "Для заданных функций найти подходящий график (не все функции имеют график):\n",
    "$\\frac{3}{4}x-1$,  $\\frac{3}{4}x+2$, $2-2x$, $2+2x$, $\\frac{1}{4}(x+1)^{2}-2 $, $\\frac{1}{4}(x-1)^2-2$, $(x-1)(x-3)$, $(x+1)(x+3)$, $2-x^2$, $2-\\frac{1}{4}x^2$\n",
    "\n",
    "![alt text](https://pp.userapi.com/c855532/v855532908/aadd4/uWjIZGDfw0s.jpg)\n"
   ]
  },
  {
   "cell_type": "markdown",
   "metadata": {},
   "source": [
    "1ый график y = 3/4*x - 1\n",
    "2ой график y = 2 - 1/4*x^2\n",
    "3ий график y = 2 - x^2\n",
    "4ый график y = 1/4*(x+1)^2 - 2\n",
    "5ый график y = 2 - 2*x\n",
    "6ой график y = (x-1)(x-3)"
   ]
  },
  {
   "cell_type": "markdown",
   "metadata": {},
   "source": [
    "**Задание 4.** Найти минимальную степень следующего полинома:\n",
    "\n",
    "![alt text](https://pp.userapi.com/c855532/v855532908/aadcd/PZdPYTQT02A.jpg)"
   ]
  },
  {
   "cell_type": "markdown",
   "metadata": {},
   "source": [
    "Минимальная степень полинома = 5."
   ]
  },
  {
   "cell_type": "markdown",
   "metadata": {},
   "source": [
    "Почему следующие функции не являются полиномиальными?\n",
    "$$y=5x^{-2}+1$$\n",
    "$$y=3x^{1/2}+2$$\n",
    "$$y=(5x+1)/(3x)$$\n",
    "Данные функции не являются полиномами, потому что степень полинома должна быть целой и неотрицательной."
   ]
  },
  {
   "cell_type": "markdown",
   "metadata": {},
   "source": [
    "Найдите наибольшее и наименьшее значение функции $y = x^3 + 2x^2 + x + 3 $ на отрезке [-4;-1]."
   ]
  },
  {
   "cell_type": "markdown",
   "metadata": {},
   "source": [
    "y' = 3*x^2 +4*x + 1 = 0\n",
    "x1 = -1\n",
    "x2 = -1/3\n",
    "f(-1) = -1 + 2 - 1 + 3 = 3 - максимальное значение функции\n",
    "f(-4) = -64 + 32 - 4 + 3 = -33 минимальное значение функции\n",
    "Точка x2 = -1/3 не принадлежит отрезку [-4;-1]"
   ]
  },
  {
   "cell_type": "code",
   "execution_count": 79,
   "metadata": {},
   "outputs": [],
   "source": [
    "from sklearn.linear_model import LinearRegression\n",
    "\n",
    "np.random.seed(0)\n",
    "x = 2 - 3 * np.random.normal(0, 1, 20)\n",
    "y = x - 2 * (x ** 2) + 0.5 * (x ** 3) + np.random.normal(-3, 3, 20)\n",
    "z = np.polyfit(x, y, 3)\n",
    "# transforming the data to include another axis\n",
    "x = x[:, np.newaxis]\n",
    "y = y[:, np.newaxis]\n",
    "\n",
    "model = LinearRegression().fit(x,y)"
   ]
  },
  {
   "cell_type": "code",
   "execution_count": 80,
   "metadata": {},
   "outputs": [
    {
     "data": {
      "image/png": "[encoded data removed]",
      "text/plain": [
       "<Figure size 432x288 with 1 Axes>"
      ]
     },
     "metadata": {
      "needs_background": "light"
     },
     "output_type": "display_data"
    }
   ],
   "source": [
    "plt.scatter(x, y, color =\"m\", marker =\"o\", s =30) \n",
    "y_pred =model.intercept_ + model.coef_*x \n",
    "plt.plot(x, y_pred, color =\"g\") \n",
    "plt.xlabel('x') \n",
    "plt.ylabel('y') \n",
    "plt.show() "
   ]
  },
  {
   "cell_type": "code",
   "execution_count": 81,
   "metadata": {},
   "outputs": [
    {
     "data": {
      "image/png": "[encoded data removed]",
      "text/plain": [
       "<Figure size 432x288 with 1 Axes>"
      ]
     },
     "metadata": {
      "needs_background": "light"
     },
     "output_type": "display_data"
    }
   ],
   "source": [
    "p = np.poly1d(z)\n",
    "xp = np.linspace(x.min(), x.max(), 100)\n",
    "plt.plot(x, y, '.', xp, p(xp), '-')\n",
    "plt.show()"
   ]
  }
 ],
 "metadata": {
  "kernelspec": {
   "display_name": "Python 3",
   "language": "python",
   "name": "python3"
  },
  "language_info": {
   "codemirror_mode": {
    "name": "ipython",
    "version": 3
   },
   "file_extension": ".py",
   "mimetype": "text/x-python",
   "name": "python",
   "nbconvert_exporter": "python",
   "pygments_lexer": "ipython3",
   "version": "3.7.3"
  }
 },
 "nbformat": 4,
 "nbformat_minor": 2
}
