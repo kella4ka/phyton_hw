{
 "cells": [
  {
   "cell_type": "markdown",
   "metadata": {},
   "source": [
    "                                             Домашнее задание №4"
   ]
  },
  {
   "cell_type": "code",
   "execution_count": 204,
   "metadata": {},
   "outputs": [],
   "source": [
    "import numpy as np\n",
    "import math\n",
    "\n",
    "import sympy as sym"
   ]
  },
  {
   "cell_type": "code",
   "execution_count": 208,
   "metadata": {},
   "outputs": [],
   "source": [
    "#Задание №1\n",
    "a) Бесконечное количество локальных экстремумов имеют периодические функции, например, y(x) = sin(x)\n",
    "б) Два локальных экстремума: кубическая функция. При приравнивании к нулю производной, у нее будет 2 корня. \n",
    "    Например, y(x) = -x^3/3+2x^2-3x+8. \n",
    "в) Три локальных экстремума: y(x) = x^4 +3x^3+x^2-x+6. При нахождении производной у нас получится кубическое уравнение, \n",
    "    решение которого дает нам 3 точки экстремума.\n",
    "г) область определения функции одна точка: y(x) = sqrt(-x^2)"
   ]
  },
  {
   "cell_type": "markdown",
   "metadata": {},
   "source": [
    "                                            Задание №2"
   ]
  },
  {
   "cell_type": "markdown",
   "metadata": {},
   "source": [
    "\\begin{equation} \n",
    "f(x) = sin^2(2x+1)\\\\\n",
    "f^\\prime = 4sin(2x+1)cos(2x+1) = 2sin(4x+2)\\\\\n",
    "f^{\\prime\\prime} = 8cos(4x+2)\\\\\n",
    "\\end{equation}"
   ]
  },
  {
   "cell_type": "markdown",
   "metadata": {},
   "source": [
    "\\begin{equation} \n",
    "f(x) = ln(x^3+2sin(x))\\\\\n",
    "f^\\prime = {(3x^2+2cos(x))\\over{(x^3+2sin(x))}}\\\\\n",
    "f^{\\prime\\prime} = {6x - 2sin(x) - {(3x^2+2cos(x))^2\\over{(x^3+2sin(x))}}\\over{(x^3+2sin(x))}}\\\\\n",
    "\\end{equation}"
   ]
  },
  {
   "cell_type": "code",
   "execution_count": 205,
   "metadata": {},
   "outputs": [
    {
     "data": {
      "text/plain": [
       "'Значение 3ей производной в точке х=1 равно:65.77248031813755'"
      ]
     },
     "execution_count": 205,
     "metadata": {},
     "output_type": "execute_result"
    }
   ],
   "source": [
    "#Задание №3\n",
    "x=sym.Symbol('x')\n",
    "func = x**5 + 4*sym.sin(2*x) + sym.cos(3*x+3)\n",
    "a = sym.diff(func, x, 3)\n",
    "b = a.subs(x, 1)\n",
    "'Значение 3ей производной в точке х=1 равно:{0}'.format(float(b))"
   ]
  },
  {
   "cell_type": "code",
   "execution_count": 209,
   "metadata": {},
   "outputs": [
    {
     "data": {
      "text/plain": [
       "'Значение 4ей производной в точке х=1 равно:255.96882853552327'"
      ]
     },
     "execution_count": 209,
     "metadata": {},
     "output_type": "execute_result"
    }
   ],
   "source": [
    "a = sym.diff(func, x, 4)\n",
    "b = a.subs(x, 1)\n",
    "'Значение 4ей производной в точке х=1 равно:{0}'.format(float(b))"
   ]
  }
 ],
 "metadata": {
  "kernelspec": {
   "display_name": "Python 3",
   "language": "python",
   "name": "python3"
  },
  "language_info": {
   "codemirror_mode": {
    "name": "ipython",
    "version": 3
   },
   "file_extension": ".py",
   "mimetype": "text/x-python",
   "name": "python",
   "nbconvert_exporter": "python",
   "pygments_lexer": "ipython3",
   "version": "3.7.3"
  }
 },
 "nbformat": 4,
 "nbformat_minor": 2
}
