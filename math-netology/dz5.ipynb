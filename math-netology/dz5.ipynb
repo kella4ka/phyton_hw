{
 "cells": [
  {
   "cell_type": "code",
   "execution_count": null,
   "metadata": {},
   "outputs": [],
   "source": [
    "import numpy as np\n",
    "import matplotlib.pyplot as plt\n",
    "import sympy as sym\n",
    "from scipy.optimize import approx_fprime\n",
    "from scipy.optimize import minimize"
   ]
  },
  {
   "cell_type": "markdown",
   "metadata": {},
   "source": [
    "### Задание 1: \n",
    "Посчитайте частные производные функций в точках\n",
    "(как обычно, необходимо решение на бумажке или в LaTeX и на numpy):"
   ]
  },
  {
   "cell_type": "markdown",
   "metadata": {},
   "source": [
    "1) $f(x,y)=2x^2y^3 + 1/x + y^2x + 7$ в точке $(1,2)$\n",
    "\n",
    "2) $f(x,y)=x^2y - sin(xy) + cos(x^2) + 6y$"
   ]
  },
  {
   "cell_type": "code",
   "execution_count": 2,
   "metadata": {},
   "outputs": [],
   "source": [
    "x, y = sym.symbols('x y')\n",
    "func = 2*x**2*y**3 + 1/x + y**2*x+7\n",
    "fx = sym.diff(func, x)\n",
    "fy = sym.diff(func, y)\n",
    "a = fx.subs({x:1, y:2})\n",
    "b = fy.subs({x:1, y:2})\n",
    "print('Частная производная по x: {0} по y: {1}'.format(fx, fy))\n",
    "print('Частная производная по x: в точке (х,y) = (1,2): {0} по y: {1}'.format(a, b))"
   ]
  },
  {
   "cell_type": "code",
   "execution_count": 3,
   "metadata": {},
   "outputs": [
    {
     "name": "stdout",
     "output_type": "stream",
     "text": [
      "Частная производная по x: -2*x*sin(x**2) + 2*x - y*cos(x*y) по y: -x*cos(x*y) + 6\n"
     ]
    }
   ],
   "source": [
    "func2 = x**2-sym.sin(x*y)+sym.cos(x**2)+6*y\n",
    "fx2 = sym.diff(func2, x)\n",
    "fy2 = sym.diff(func2, y)\n",
    "print('Частная производная по x: {0} по y: {1}'.format(fx2, fy2))"
   ]
  },
  {
   "cell_type": "markdown",
   "metadata": {},
   "source": [
    "### Задание 2:\n",
    "\n",
    "Градиентный спуск своими руками"
   ]
  },
  {
   "cell_type": "code",
   "execution_count": 4,
   "metadata": {},
   "outputs": [],
   "source": [
    "def f(x):\n",
    "    return (x[0]**2) + (x[1]**2) "
   ]
  },
  {
   "cell_type": "code",
   "execution_count": 5,
   "metadata": {},
   "outputs": [],
   "source": [
    "func = x**2+y**2\n",
    "x0 = np.array([100, 200])\n",
    "lr = 0.1"
   ]
  },
  {
   "cell_type": "code",
   "execution_count": 7,
   "metadata": {},
   "outputs": [],
   "source": [
    "def grad(f, x0):\n",
    "    a = [f.diff(x), f.diff(y)]\n",
    "    b = float(a[0].subs({x:x0[0], y:x0[1]}))\n",
    "    c = float(a[1].subs({x:x0[0], y:x0[1]}))\n",
    "    return np.array([b, c])"
   ]
  },
  {
   "cell_type": "code",
   "execution_count": 61,
   "metadata": {},
   "outputs": [],
   "source": [
    "def grad_descent(func, x0, lr, eps):\n",
    "    x_list = []\n",
    "    grad_fx = grad(func, x0)\n",
    "    while np.linalg.norm(grad_fx) > eps:\n",
    "        x_new = x0 - lr*grad_fx\n",
    "        grad_fx = grad(func, x_new)\n",
    "        x0 = x_new\n",
    "        x_list.append(x_new)\n",
    "    return x_list, x_new"
   ]
  },
  {
   "cell_type": "code",
   "execution_count": 66,
   "metadata": {},
   "outputs": [
    {
     "name": "stdout",
     "output_type": "stream",
     "text": [
      "Минимум достигается в:  [2.05688070e-05 4.11376139e-05]\n",
      "Значение функции в минимуме:  2.1153791001287973e-09\n",
      "Число шагов: 69\n",
      "Минимум достигается в:  [2.21073920e-05 4.42147839e-05]\n",
      "Значение функции в минимуме:  2.4436838990344577e-09\n",
      "Число шагов: 30\n",
      "Минимум достигается в:  [1.71798692e-05 3.43597384e-05]\n",
      "Значение функции в минимуме:  1.4757395258967665e-09\n",
      "Число шагов: 17\n",
      "Минимум достигается в:  [1.024e-05 2.048e-05]\n",
      "Значение функции в минимуме:  5.242879999999976e-10\n",
      "Число шагов: 10\n",
      "Минимум достигается в:  [0. 0.]\n",
      "Значение функции в минимуме:  0.0\n",
      "Число шагов: 1\n"
     ]
    }
   ],
   "source": [
    "for i in [j/10 for j in range(1,6)]:\n",
    "    list_, xmin = grad_descent(func, x0, i, 1e-4)\n",
    "    print(\"Минимум достигается в: \", xmin)\n",
    "    print(\"Значение функции в минимуме: \", f(xmin))\n",
    "    print (\"Число шагов: \" + str(len(list_)))"
   ]
  },
  {
   "cell_type": "markdown",
   "metadata": {},
   "source": [
    "Проверка с помощью встроенной функции numpy: "
   ]
  },
  {
   "cell_type": "code",
   "execution_count": 74,
   "metadata": {},
   "outputs": [
    {
     "name": "stdout",
     "output_type": "stream",
     "text": [
      "Optimization terminated successfully.\n",
      "         Current function value: 0.000000\n",
      "         Iterations: 72\n",
      "         Function evaluations: 138\n"
     ]
    }
   ],
   "source": [
    "res = minimize(f, [100,200], method='Nelder-Mead', options={'xtol': 1e-6, 'disp': True})"
   ]
  },
  {
   "cell_type": "code",
   "execution_count": 75,
   "metadata": {},
   "outputs": [
    {
     "data": {
      "text/plain": [
       " final_simplex: (array([[ 2.95771327e-07,  6.94893813e-08],\n",
       "       [-4.58440767e-07,  4.28023999e-07],\n",
       "       [-1.29572072e-08, -7.25847730e-07]]), array([9.23094520e-14, 3.93372481e-13, 5.27022817e-13]))\n",
       "           fun: 9.23094520377088e-14\n",
       "       message: 'Optimization terminated successfully.'\n",
       "          nfev: 138\n",
       "           nit: 72\n",
       "        status: 0\n",
       "       success: True\n",
       "             x: array([2.95771327e-07, 6.94893813e-08])"
      ]
     },
     "execution_count": 75,
     "metadata": {},
     "output_type": "execute_result"
    }
   ],
   "source": [
    "res"
   ]
  }
 ],
 "metadata": {
  "kernelspec": {
   "display_name": "Python 3",
   "language": "python",
   "name": "python3"
  },
  "language_info": {
   "codemirror_mode": {
    "name": "ipython",
    "version": 3
   },
   "file_extension": ".py",
   "mimetype": "text/x-python",
   "name": "python",
   "nbconvert_exporter": "python",
   "pygments_lexer": "ipython3",
   "version": "3.7.3"
  }
 },
 "nbformat": 4,
 "nbformat_minor": 2
}
