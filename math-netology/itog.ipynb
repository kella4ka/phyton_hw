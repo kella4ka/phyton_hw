{
 "cells": [
  {
   "cell_type": "markdown",
   "metadata": {},
   "source": [
    "### Задание 1"
   ]
  },
  {
   "cell_type": "markdown",
   "metadata": {},
   "source": [
    "Дана матрица рейтингов фильмов (строки - пользователи (10 человек), столбцы - фильмы (15 фильмов))"
   ]
  },
  {
   "cell_type": "code",
   "execution_count": 228,
   "metadata": {},
   "outputs": [],
   "source": [
    "import numpy as np\n",
    "import sympy as sym"
   ]
  },
  {
   "cell_type": "code",
   "execution_count": 229,
   "metadata": {},
   "outputs": [],
   "source": [
    "raitings = [[ 4,  4,  9,  4,  1,  6, 10,  7,  9,  6,  9,  2,  8,  6,  6],\n",
    "            [ 9,  2,  5, 10,  7,  8, 10,  5,  6,  2,  1,  6,  8,  9,  7],\n",
    "            [ 1,  6,  8,  8,  4,  9,  3,  8, 10,  5,  2,  6,  8,  1,  6],\n",
    "            [ 6,  1,  9,  7,  7,  9,  2,  3,  5,  1,  6,  6,  3,  2,  7],\n",
    "            [ 3,  7,  3,  5,  7,  9,  9,  6,  2,  9,  1,  2,  8, 10,  6],\n",
    "            [ 8,  3,  7,  3,  8,  6,  1,  8,  8,  6,  1,  9,  4, 10,  1],\n",
    "            [ 9,  8,  4,  8,  8, 10,  6,  1,  1,  2,  9,  5,  2,  7,  2],\n",
    "            [ 4,  1,  6,  4,  3, 10,  4,  4,  2,  8,  7,  9,  3,  8,  3],\n",
    "            [ 2,  7,  7,  6, 10,  6,  8,  9,  8,  6, 10,  1,  7, 10,  4],\n",
    "            [ 5, 10,  8,  8,  9,  7,  2,  9,  9, 10,  8,  8,  8,  6, 10]]"
   ]
  },
  {
   "cell_type": "markdown",
   "metadata": {},
   "source": [
    "<b> a) </b> Необходимо найти наиболее похожего пользователя по косинусной метрике для каждого из (ответ: 10 пар вида (x, y), где y - наиболее похожий пользователь на пользователя x)."
   ]
  },
  {
   "cell_type": "code",
   "execution_count": 230,
   "metadata": {},
   "outputs": [
    {
     "name": "stdout",
     "output_type": "stream",
     "text": [
      "Наиболее похожие вектора i = [4, 4, 9, 4, 1, 6, 10, 7, 9, 6, 9, 2, 8, 6, 6], j = [9, 2, 5, 10, 7, 8, 10, 5, 6, 2, 1, 6, 8, 9, 7], cos = 0.826\n",
      "Наиболее похожие вектора i = [4, 4, 9, 4, 1, 6, 10, 7, 9, 6, 9, 2, 8, 6, 6], j = [1, 6, 8, 8, 4, 9, 3, 8, 10, 5, 2, 6, 8, 1, 6], cos = 0.849\n",
      "Наименее похожие вектора i = [4, 4, 9, 4, 1, 6, 10, 7, 9, 6, 9, 2, 8, 6, 6], j = [6, 1, 9, 7, 7, 9, 2, 3, 5, 1, 6, 6, 3, 2, 7], cos = 0.783\n",
      "Наиболее похожие вектора i = [4, 4, 9, 4, 1, 6, 10, 7, 9, 6, 9, 2, 8, 6, 6], j = [3, 7, 3, 5, 7, 9, 9, 6, 2, 9, 1, 2, 8, 10, 6], cos = 0.819\n",
      "Наименее похожие вектора i = [4, 4, 9, 4, 1, 6, 10, 7, 9, 6, 9, 2, 8, 6, 6], j = [8, 3, 7, 3, 8, 6, 1, 8, 8, 6, 1, 9, 4, 10, 1], cos = 0.741\n",
      "Наименее похожие вектора i = [4, 4, 9, 4, 1, 6, 10, 7, 9, 6, 9, 2, 8, 6, 6], j = [9, 8, 4, 8, 8, 10, 6, 1, 1, 2, 9, 5, 2, 7, 2], cos = 0.727\n",
      "Наиболее похожие вектора i = [4, 4, 9, 4, 1, 6, 10, 7, 9, 6, 9, 2, 8, 6, 6], j = [4, 1, 6, 4, 3, 10, 4, 4, 2, 8, 7, 9, 3, 8, 3], cos = 0.81\n",
      "Наиболее похожие вектора i = [4, 4, 9, 4, 1, 6, 10, 7, 9, 6, 9, 2, 8, 6, 6], j = [2, 7, 7, 6, 10, 6, 8, 9, 8, 6, 10, 1, 7, 10, 4], cos = 0.911\n",
      "Наиболее похожие вектора i = [4, 4, 9, 4, 1, 6, 10, 7, 9, 6, 9, 2, 8, 6, 6], j = [5, 10, 8, 8, 9, 7, 2, 9, 9, 10, 8, 8, 8, 6, 10], cos = 0.86\n",
      "Наиболее похожие вектора i = [9, 2, 5, 10, 7, 8, 10, 5, 6, 2, 1, 6, 8, 9, 7], j = [1, 6, 8, 8, 4, 9, 3, 8, 10, 5, 2, 6, 8, 1, 6], cos = 0.812\n",
      "Наиболее похожие вектора i = [9, 2, 5, 10, 7, 8, 10, 5, 6, 2, 1, 6, 8, 9, 7], j = [6, 1, 9, 7, 7, 9, 2, 3, 5, 1, 6, 6, 3, 2, 7], cos = 0.846\n",
      "Наиболее похожие вектора i = [9, 2, 5, 10, 7, 8, 10, 5, 6, 2, 1, 6, 8, 9, 7], j = [3, 7, 3, 5, 7, 9, 9, 6, 2, 9, 1, 2, 8, 10, 6], cos = 0.871\n",
      "Наиболее похожие вектора i = [9, 2, 5, 10, 7, 8, 10, 5, 6, 2, 1, 6, 8, 9, 7], j = [8, 3, 7, 3, 8, 6, 1, 8, 8, 6, 1, 9, 4, 10, 1], cos = 0.827\n",
      "Наиболее похожие вектора i = [9, 2, 5, 10, 7, 8, 10, 5, 6, 2, 1, 6, 8, 9, 7], j = [9, 8, 4, 8, 8, 10, 6, 1, 1, 2, 9, 5, 2, 7, 2], cos = 0.826\n",
      "Наименее похожие вектора i = [9, 2, 5, 10, 7, 8, 10, 5, 6, 2, 1, 6, 8, 9, 7], j = [4, 1, 6, 4, 3, 10, 4, 4, 2, 8, 7, 9, 3, 8, 3], cos = 0.8\n",
      "Наиболее похожие вектора i = [9, 2, 5, 10, 7, 8, 10, 5, 6, 2, 1, 6, 8, 9, 7], j = [2, 7, 7, 6, 10, 6, 8, 9, 8, 6, 10, 1, 7, 10, 4], cos = 0.825\n",
      "Наиболее похожие вектора i = [9, 2, 5, 10, 7, 8, 10, 5, 6, 2, 1, 6, 8, 9, 7], j = [5, 10, 8, 8, 9, 7, 2, 9, 9, 10, 8, 8, 8, 6, 10], cos = 0.82\n",
      "Наиболее похожие вектора i = [1, 6, 8, 8, 4, 9, 3, 8, 10, 5, 2, 6, 8, 1, 6], j = [6, 1, 9, 7, 7, 9, 2, 3, 5, 1, 6, 6, 3, 2, 7], cos = 0.847\n",
      "Наименее похожие вектора i = [1, 6, 8, 8, 4, 9, 3, 8, 10, 5, 2, 6, 8, 1, 6], j = [3, 7, 3, 5, 7, 9, 9, 6, 2, 9, 1, 2, 8, 10, 6], cos = 0.784\n",
      "Наименее похожие вектора i = [1, 6, 8, 8, 4, 9, 3, 8, 10, 5, 2, 6, 8, 1, 6], j = [8, 3, 7, 3, 8, 6, 1, 8, 8, 6, 1, 9, 4, 10, 1], cos = 0.791\n",
      "Наименее похожие вектора i = [1, 6, 8, 8, 4, 9, 3, 8, 10, 5, 2, 6, 8, 1, 6], j = [9, 8, 4, 8, 8, 10, 6, 1, 1, 2, 9, 5, 2, 7, 2], cos = 0.676\n",
      "Наименее похожие вектора i = [1, 6, 8, 8, 4, 9, 3, 8, 10, 5, 2, 6, 8, 1, 6], j = [4, 1, 6, 4, 3, 10, 4, 4, 2, 8, 7, 9, 3, 8, 3], cos = 0.763\n",
      "Наиболее похожие вектора i = [1, 6, 8, 8, 4, 9, 3, 8, 10, 5, 2, 6, 8, 1, 6], j = [2, 7, 7, 6, 10, 6, 8, 9, 8, 6, 10, 1, 7, 10, 4], cos = 0.821\n",
      "Наиболее похожие вектора i = [1, 6, 8, 8, 4, 9, 3, 8, 10, 5, 2, 6, 8, 1, 6], j = [5, 10, 8, 8, 9, 7, 2, 9, 9, 10, 8, 8, 8, 6, 10], cos = 0.919\n",
      "Наименее похожие вектора i = [6, 1, 9, 7, 7, 9, 2, 3, 5, 1, 6, 6, 3, 2, 7], j = [3, 7, 3, 5, 7, 9, 9, 6, 2, 9, 1, 2, 8, 10, 6], cos = 0.692\n",
      "Наименее похожие вектора i = [6, 1, 9, 7, 7, 9, 2, 3, 5, 1, 6, 6, 3, 2, 7], j = [8, 3, 7, 3, 8, 6, 1, 8, 8, 6, 1, 9, 4, 10, 1], cos = 0.787\n",
      "Наиболее похожие вектора i = [6, 1, 9, 7, 7, 9, 2, 3, 5, 1, 6, 6, 3, 2, 7], j = [9, 8, 4, 8, 8, 10, 6, 1, 1, 2, 9, 5, 2, 7, 2], cos = 0.833\n",
      "Наиболее похожие вектора i = [6, 1, 9, 7, 7, 9, 2, 3, 5, 1, 6, 6, 3, 2, 7], j = [4, 1, 6, 4, 3, 10, 4, 4, 2, 8, 7, 9, 3, 8, 3], cos = 0.829\n",
      "Наименее похожие вектора i = [6, 1, 9, 7, 7, 9, 2, 3, 5, 1, 6, 6, 3, 2, 7], j = [2, 7, 7, 6, 10, 6, 8, 9, 8, 6, 10, 1, 7, 10, 4], cos = 0.777\n",
      "Наиболее похожие вектора i = [6, 1, 9, 7, 7, 9, 2, 3, 5, 1, 6, 6, 3, 2, 7], j = [5, 10, 8, 8, 9, 7, 2, 9, 9, 10, 8, 8, 8, 6, 10], cos = 0.859\n",
      "Наименее похожие вектора i = [3, 7, 3, 5, 7, 9, 9, 6, 2, 9, 1, 2, 8, 10, 6], j = [8, 3, 7, 3, 8, 6, 1, 8, 8, 6, 1, 9, 4, 10, 1], cos = 0.776\n",
      "Наименее похожие вектора i = [3, 7, 3, 5, 7, 9, 9, 6, 2, 9, 1, 2, 8, 10, 6], j = [9, 8, 4, 8, 8, 10, 6, 1, 1, 2, 9, 5, 2, 7, 2], cos = 0.782\n",
      "Наиболее похожие вектора i = [3, 7, 3, 5, 7, 9, 9, 6, 2, 9, 1, 2, 8, 10, 6], j = [4, 1, 6, 4, 3, 10, 4, 4, 2, 8, 7, 9, 3, 8, 3], cos = 0.812\n",
      "Наиболее похожие вектора i = [3, 7, 3, 5, 7, 9, 9, 6, 2, 9, 1, 2, 8, 10, 6], j = [2, 7, 7, 6, 10, 6, 8, 9, 8, 6, 10, 1, 7, 10, 4], cos = 0.879\n",
      "Наиболее похожие вектора i = [3, 7, 3, 5, 7, 9, 9, 6, 2, 9, 1, 2, 8, 10, 6], j = [5, 10, 8, 8, 9, 7, 2, 9, 9, 10, 8, 8, 8, 6, 10], cos = 0.846\n",
      "Наименее похожие вектора i = [8, 3, 7, 3, 8, 6, 1, 8, 8, 6, 1, 9, 4, 10, 1], j = [9, 8, 4, 8, 8, 10, 6, 1, 1, 2, 9, 5, 2, 7, 2], cos = 0.74\n",
      "Наиболее похожие вектора i = [8, 3, 7, 3, 8, 6, 1, 8, 8, 6, 1, 9, 4, 10, 1], j = [4, 1, 6, 4, 3, 10, 4, 4, 2, 8, 7, 9, 3, 8, 3], cos = 0.845\n",
      "Наиболее похожие вектора i = [8, 3, 7, 3, 8, 6, 1, 8, 8, 6, 1, 9, 4, 10, 1], j = [2, 7, 7, 6, 10, 6, 8, 9, 8, 6, 10, 1, 7, 10, 4], cos = 0.806\n",
      "Наиболее похожие вектора i = [8, 3, 7, 3, 8, 6, 1, 8, 8, 6, 1, 9, 4, 10, 1], j = [5, 10, 8, 8, 9, 7, 2, 9, 9, 10, 8, 8, 8, 6, 10], cos = 0.855\n",
      "Наиболее похожие вектора i = [9, 8, 4, 8, 8, 10, 6, 1, 1, 2, 9, 5, 2, 7, 2], j = [4, 1, 6, 4, 3, 10, 4, 4, 2, 8, 7, 9, 3, 8, 3], cos = 0.827\n",
      "Наиболее похожие вектора i = [9, 8, 4, 8, 8, 10, 6, 1, 1, 2, 9, 5, 2, 7, 2], j = [2, 7, 7, 6, 10, 6, 8, 9, 8, 6, 10, 1, 7, 10, 4], cos = 0.811\n",
      "Наименее похожие вектора i = [9, 8, 4, 8, 8, 10, 6, 1, 1, 2, 9, 5, 2, 7, 2], j = [5, 10, 8, 8, 9, 7, 2, 9, 9, 10, 8, 8, 8, 6, 10], cos = 0.792\n",
      "Наименее похожие вектора i = [4, 1, 6, 4, 3, 10, 4, 4, 2, 8, 7, 9, 3, 8, 3], j = [2, 7, 7, 6, 10, 6, 8, 9, 8, 6, 10, 1, 7, 10, 4], cos = 0.798\n",
      "Наиболее похожие вектора i = [4, 1, 6, 4, 3, 10, 4, 4, 2, 8, 7, 9, 3, 8, 3], j = [5, 10, 8, 8, 9, 7, 2, 9, 9, 10, 8, 8, 8, 6, 10], cos = 0.837\n",
      "Наиболее похожие вектора i = [2, 7, 7, 6, 10, 6, 8, 9, 8, 6, 10, 1, 7, 10, 4], j = [5, 10, 8, 8, 9, 7, 2, 9, 9, 10, 8, 8, 8, 6, 10], cos = 0.901\n"
     ]
    }
   ],
   "source": [
    "for i in range(0, len(raitings)):\n",
    "    for j in range(i, len(raitings)):\n",
    "        if j != i:\n",
    "            if round(np.dot(raitings[i],raitings[j])/(np.linalg.norm(raitings[i])*np.linalg.norm(raitings[j])),3) > 0.8:\n",
    "                print('Наиболее похожие вектора i = {0}, j = {1}, cos = {2}'.format(raitings[i], raitings[j], round(np.dot(raitings[i],raitings[j])/(np.linalg.norm(raitings[i])*np.linalg.norm(raitings[j])),3)))\n",
    "            else:\n",
    "                print('Наименее похожие вектора i = {0}, j = {1}, cos = {2}'.format(raitings[i], raitings[j], round(np.dot(raitings[i],raitings[j])/(np.linalg.norm(raitings[i])*np.linalg.norm(raitings[j])),3)))"
   ]
  },
  {
   "cell_type": "markdown",
   "metadata": {},
   "source": [
    "<b> b) </b>Предположим, вы захотели сжать признаковые описания пользователя с 15 фильмов, до, скажем, 5-ти признаков, как вы это сделаете?"
   ]
  },
  {
   "cell_type": "markdown",
   "metadata": {},
   "source": [
    "1) Можно найти похожие признаки по косинусовой метрике, в качестве рассматриваемых векторов берем столбец, а не строку.\n",
    "2) Можно через корреляцию найти похожие.\n",
    "3) Можно рассматривать raitings как матрицу и снизить размерность через сингулярное разложение. "
   ]
  },
  {
   "cell_type": "markdown",
   "metadata": {},
   "source": [
    "### Задание 2"
   ]
  },
  {
   "cell_type": "markdown",
   "metadata": {},
   "source": [
    "Вычислите производную $tg^2(sin(x) + cos(2x+3))$ в точке $x_0=1$ на python и на бумаге (просто подставить точку в производную и ничего не упрощать)."
   ]
  },
  {
   "cell_type": "code",
   "execution_count": 235,
   "metadata": {},
   "outputs": [
    {
     "name": "stdout",
     "output_type": "stream",
     "text": [
      "Производная = 2*(-2*sin(2*x + 3) + cos(x))*(tan(sin(x) + cos(2*x + 3))**2 + 1)*tan(sin(x) + cos(2*x + 3))\n",
      "Значение производной в точке х=1 равно:55.3859176353379\n"
     ]
    }
   ],
   "source": [
    "x=sym.Symbol('x')\n",
    "func = sym.tan(sym.sin(x) + sym.cos(2*x+3))**2\n",
    "a = sym.diff(func, x, 1)\n",
    "b = a.subs(x, 1)\n",
    "print('Производная = {0}'.format(a))\n",
    "print('Значение производной в точке х=1 равно:{0}'.format(float(b)))"
   ]
  },
  {
   "cell_type": "markdown",
   "metadata": {},
   "source": [
    "### Задание 3"
   ]
  },
  {
   "cell_type": "markdown",
   "metadata": {},
   "source": [
    "Дана функция с неизвестными параметрами a и b, вам также известны значения функции fx в точках x. Найдите оптимальные параметры a, b, минимизирующие абсолютную ошибку <b>error</b>"
   ]
  },
  {
   "cell_type": "code",
   "execution_count": 377,
   "metadata": {},
   "outputs": [],
   "source": [
    "import matplotlib.pyplot as plt\n",
    "from scipy.optimize import minimize, curve_fit\n",
    "import scipy as sy\n",
    "%matplotlib inline"
   ]
  },
  {
   "cell_type": "code",
   "execution_count": 378,
   "metadata": {},
   "outputs": [],
   "source": [
    "def f(x, a, b):\n",
    "    return np.e**a * np.sin(b*x) + x"
   ]
  },
  {
   "cell_type": "code",
   "execution_count": 379,
   "metadata": {},
   "outputs": [],
   "source": [
    "def fnew(x, a, b):\n",
    "    return np.e**a * np.sin(b*x)"
   ]
  },
  {
   "cell_type": "code",
   "execution_count": 380,
   "metadata": {},
   "outputs": [],
   "source": [
    "x = [0.        , 0.26315789, 0.52631579, 0.78947368, 1.05263158,\n",
    "       1.31578947, 1.57894737, 1.84210526, 2.10526316, 2.36842105,\n",
    "       2.63157895, 2.89473684, 3.15789474, 3.42105263, 3.68421053,\n",
    "       3.94736842, 4.21052632, 4.47368421, 4.73684211, 5.        ]"
   ]
  },
  {
   "cell_type": "code",
   "execution_count": 381,
   "metadata": {},
   "outputs": [],
   "source": [
    "fx = [  0.        , -12.01819092, -18.90968634, -17.68786571,\n",
    "        -8.7529108 ,   4.27524517,  16.06801336,  21.81250213,\n",
    "        19.22059845,   9.48411207,  -3.22273056, -13.48576488,\n",
    "       -16.91096359, -11.95866834,  -0.58630088,  12.56873816,\n",
    "        22.12489421,  24.20292139,  18.04522521,   6.33211092]"
   ]
  },
  {
   "cell_type": "code",
   "execution_count": 386,
   "metadata": {},
   "outputs": [
    {
     "name": "stdout",
     "output_type": "stream",
     "text": [
      "[ 3.  -2.5]\n"
     ]
    },
    {
     "data": {
      "text/plain": [
       "[<matplotlib.lines.Line2D at 0x1a2107609b0>]"
      ]
     },
     "execution_count": 386,
     "metadata": {},
     "output_type": "execute_result"
    },
    {
     "data": {
      "image/png": "[encoded data removed]",
      "text/plain": [
       "<Figure size 432x288 with 1 Axes>"
      ]
     },
     "metadata": {
      "needs_background": "light"
     },
     "output_type": "display_data"
    }
   ],
   "source": [
    "p0 = sy.array([2,-2])\n",
    "popt, pcov = curve_fit(f, x, fx, p0)\n",
    "print(popt)\n",
    "modeldata = [f(i, popt[0], popt[1]) for i in x]\n",
    "plt.plot(x, fx, 'o', color ='red') \n",
    "plt.plot(x, modeldata, '--', color ='blue') "
   ]
  },
  {
   "cell_type": "code",
   "execution_count": 371,
   "metadata": {},
   "outputs": [],
   "source": [
    "def error(params):\n",
    "    return np.sum(np.abs(fx - f(x, params[0], params[1])))"
   ]
  },
  {
   "cell_type": "code",
   "execution_count": 387,
   "metadata": {},
   "outputs": [
    {
     "name": "stdout",
     "output_type": "stream",
     "text": [
      "1.5365230803254804e-06\n"
     ]
    }
   ],
   "source": [
    "err = np.sum(np.abs([fx[i] - modeldata[i] for i in range(0, len(fx))]))\n",
    "print(err)"
   ]
  },
  {
   "cell_type": "markdown",
   "metadata": {},
   "source": [
    "### Задание 4"
   ]
  },
  {
   "cell_type": "markdown",
   "metadata": {},
   "source": [
    "Создайте собственную дискретную случайную величину с 20 значениями. Сгенерируйте 1000 выборок размера 50. Посчитайте среднее для каждой выборки. Постройте гистограмму распределения средних."
   ]
  },
  {
   "cell_type": "code",
   "execution_count": 444,
   "metadata": {},
   "outputs": [
    {
     "data": {
      "text/plain": [
       "array([2, 1, 1, 2, 2, 1, 3, 1, 3, 2, 2, 2, 3, 1, 2, 1, 1, 3, 3, 1])"
      ]
     },
     "execution_count": 444,
     "metadata": {},
     "output_type": "execute_result"
    }
   ],
   "source": [
    "from scipy.stats import rv_discrete \n",
    "elements = [1, 2, 3]\n",
    "probabilities = [0.4, 0.3, 0.3]\n",
    "distrib = rv_discrete(values=(elements, probabilities)) \n",
    "distrib.rvs(size=20) "
   ]
  },
  {
   "cell_type": "code",
   "execution_count": 445,
   "metadata": {},
   "outputs": [],
   "source": [
    "n = 50\n",
    "samples_count = 1000\n",
    "mean_ = np.array([])\n",
    "\n",
    "for number in range(samples_count):\n",
    "    sample = distrib.rvs(size=n)\n",
    "    mean_ = np.append(mean_, sample.mean())"
   ]
  },
  {
   "cell_type": "code",
   "execution_count": 446,
   "metadata": {},
   "outputs": [
    {
     "data": {
      "text/plain": [
       "(array([0.13513514, 0.39189189, 1.17567568, 1.93243243, 3.51351351,\n",
       "        3.41891892, 1.51351351, 1.01351351, 0.36486486, 0.05405405]),\n",
       " array([1.54 , 1.614, 1.688, 1.762, 1.836, 1.91 , 1.984, 2.058, 2.132,\n",
       "        2.206, 2.28 ]),\n",
       " <a list of 10 Patch objects>)"
      ]
     },
     "execution_count": 446,
     "metadata": {},
     "output_type": "execute_result"
    },
    {
     "data": {
      "image/png": "[encoded data removed]",
      "text/plain": [
       "<Figure size 432x288 with 1 Axes>"
      ]
     },
     "metadata": {
      "needs_background": "light"
     },
     "output_type": "display_data"
    }
   ],
   "source": [
    "plt.hist(mean_, density=True)"
   ]
  },
  {
   "cell_type": "markdown",
   "metadata": {},
   "source": [
    "### Задание 5"
   ]
  },
  {
   "cell_type": "markdown",
   "metadata": {},
   "source": [
    "Найдите собственные значения и собственные вектора матрицы (на python и на бумаге)\n",
    "\n",
    "[[1, -4],\n",
    "\n",
    " [1, 1]]"
   ]
  },
  {
   "cell_type": "code",
   "execution_count": 55,
   "metadata": {},
   "outputs": [
    {
     "data": {
      "text/plain": [
       "array([0.-0.4472136j, 0.+0.4472136j])"
      ]
     },
     "execution_count": 55,
     "metadata": {},
     "output_type": "execute_result"
    }
   ],
   "source": [
    "A = np.array([[1, -4],\n",
    "              [1, 1]])\n",
    "values, vectors = np.linalg.eig(A)"
   ]
  },
  {
   "cell_type": "code",
   "execution_count": 56,
   "metadata": {},
   "outputs": [
    {
     "name": "stdout",
     "output_type": "stream",
     "text": [
      "Собственные значения равны:[1.+2.j 1.-2.j]\n",
      "Собственные вектора равны:[0.89442719+0.j 0.89442719-0.j], [0.-0.4472136j 0.+0.4472136j]\n"
     ]
    }
   ],
   "source": [
    "print('Собственные значения равны:{0}'.format(values))\n",
    "print('Собственные вектора равны:{0}, {1}'.format(vectors[0], vectors[1]))"
   ]
  },
  {
   "cell_type": "code",
   "execution_count": null,
   "metadata": {},
   "outputs": [],
   "source": []
  }
 ],
 "metadata": {
  "kernelspec": {
   "display_name": "Python 3",
   "language": "python",
   "name": "python3"
  },
  "language_info": {
   "codemirror_mode": {
    "name": "ipython",
    "version": 3
   },
   "file_extension": ".py",
   "mimetype": "text/x-python",
   "name": "python",
   "nbconvert_exporter": "python",
   "pygments_lexer": "ipython3",
   "version": "3.7.3"
  }
 },
 "nbformat": 4,
 "nbformat_minor": 2
}
