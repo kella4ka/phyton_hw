{
 "cells": [
  {
   "cell_type": "code",
   "execution_count": 142,
   "metadata": {},
   "outputs": [],
   "source": [
    "import numpy as np\n",
    "import pandas as pd\n",
    "import matplotlib.pyplot as plt\n",
    "import seaborn as sns\n",
    "import random\n",
    "from sklearn.linear_model import LinearRegression"
   ]
  },
  {
   "cell_type": "markdown",
   "metadata": {},
   "source": [
    "price = alfa*shop_area + beta*promotion+gamma*employee  \n",
    "price - объем годовых продаж;\n",
    "shop_area - площадь торговой зоны; \n",
    "promotion - стоимость рекламы; \n",
    "employee - количество сотрудников; \n",
    "Предполагается, что чем больше рекламы, больше торговая зона и больше сотрудников работает - тем выше шанс увеличить объем годовой выручки."
   ]
  },
  {
   "cell_type": "code",
   "execution_count": 215,
   "metadata": {},
   "outputs": [
    {
     "data": {
      "text/html": [
       "<div>\n",
       "<style scoped>\n",
       "    .dataframe tbody tr th:only-of-type {\n",
       "        vertical-align: middle;\n",
       "    }\n",
       "\n",
       "    .dataframe tbody tr th {\n",
       "        vertical-align: top;\n",
       "    }\n",
       "\n",
       "    .dataframe thead th {\n",
       "        text-align: right;\n",
       "    }\n",
       "</style>\n",
       "<table border=\"1\" class=\"dataframe\">\n",
       "  <thead>\n",
       "    <tr style=\"text-align: right;\">\n",
       "      <th></th>\n",
       "      <th>shop_area</th>\n",
       "      <th>promotion</th>\n",
       "      <th>employee</th>\n",
       "      <th>price</th>\n",
       "    </tr>\n",
       "  </thead>\n",
       "  <tbody>\n",
       "    <tr>\n",
       "      <th>0</th>\n",
       "      <td>481</td>\n",
       "      <td>689.775516</td>\n",
       "      <td>25</td>\n",
       "      <td>778.675406</td>\n",
       "    </tr>\n",
       "    <tr>\n",
       "      <th>1</th>\n",
       "      <td>780</td>\n",
       "      <td>1255.811161</td>\n",
       "      <td>13</td>\n",
       "      <td>1274.867246</td>\n",
       "    </tr>\n",
       "    <tr>\n",
       "      <th>2</th>\n",
       "      <td>110</td>\n",
       "      <td>39.530670</td>\n",
       "      <td>24</td>\n",
       "      <td>120.957254</td>\n",
       "    </tr>\n",
       "    <tr>\n",
       "      <th>3</th>\n",
       "      <td>959</td>\n",
       "      <td>1066.289964</td>\n",
       "      <td>3</td>\n",
       "      <td>1067.328072</td>\n",
       "    </tr>\n",
       "    <tr>\n",
       "      <th>4</th>\n",
       "      <td>470</td>\n",
       "      <td>938.117947</td>\n",
       "      <td>32</td>\n",
       "      <td>956.413214</td>\n",
       "    </tr>\n",
       "    <tr>\n",
       "      <th>5</th>\n",
       "      <td>246</td>\n",
       "      <td>417.745485</td>\n",
       "      <td>31</td>\n",
       "      <td>428.863427</td>\n",
       "    </tr>\n",
       "    <tr>\n",
       "      <th>6</th>\n",
       "      <td>740</td>\n",
       "      <td>949.577023</td>\n",
       "      <td>12</td>\n",
       "      <td>1036.823013</td>\n",
       "    </tr>\n",
       "    <tr>\n",
       "      <th>7</th>\n",
       "      <td>754</td>\n",
       "      <td>1093.233921</td>\n",
       "      <td>3</td>\n",
       "      <td>1155.473424</td>\n",
       "    </tr>\n",
       "    <tr>\n",
       "      <th>8</th>\n",
       "      <td>592</td>\n",
       "      <td>811.047766</td>\n",
       "      <td>34</td>\n",
       "      <td>828.888428</td>\n",
       "    </tr>\n",
       "    <tr>\n",
       "      <th>9</th>\n",
       "      <td>927</td>\n",
       "      <td>1000.057596</td>\n",
       "      <td>7</td>\n",
       "      <td>1003.703742</td>\n",
       "    </tr>\n",
       "    <tr>\n",
       "      <th>10</th>\n",
       "      <td>82</td>\n",
       "      <td>113.850120</td>\n",
       "      <td>7</td>\n",
       "      <td>131.907685</td>\n",
       "    </tr>\n",
       "    <tr>\n",
       "      <th>11</th>\n",
       "      <td>769</td>\n",
       "      <td>1037.613907</td>\n",
       "      <td>25</td>\n",
       "      <td>1080.333272</td>\n",
       "    </tr>\n",
       "    <tr>\n",
       "      <th>12</th>\n",
       "      <td>535</td>\n",
       "      <td>550.250427</td>\n",
       "      <td>19</td>\n",
       "      <td>601.321274</td>\n",
       "    </tr>\n",
       "    <tr>\n",
       "      <th>13</th>\n",
       "      <td>885</td>\n",
       "      <td>847.112956</td>\n",
       "      <td>40</td>\n",
       "      <td>925.434709</td>\n",
       "    </tr>\n",
       "    <tr>\n",
       "      <th>14</th>\n",
       "      <td>979</td>\n",
       "      <td>1195.417700</td>\n",
       "      <td>21</td>\n",
       "      <td>1211.720468</td>\n",
       "    </tr>\n",
       "  </tbody>\n",
       "</table>\n",
       "</div>"
      ],
      "text/plain": [
       "    shop_area    promotion  employee        price\n",
       "0         481   689.775516        25   778.675406\n",
       "1         780  1255.811161        13  1274.867246\n",
       "2         110    39.530670        24   120.957254\n",
       "3         959  1066.289964         3  1067.328072\n",
       "4         470   938.117947        32   956.413214\n",
       "5         246   417.745485        31   428.863427\n",
       "6         740   949.577023        12  1036.823013\n",
       "7         754  1093.233921         3  1155.473424\n",
       "8         592   811.047766        34   828.888428\n",
       "9         927  1000.057596         7  1003.703742\n",
       "10         82   113.850120         7   131.907685\n",
       "11        769  1037.613907        25  1080.333272\n",
       "12        535   550.250427        19   601.321274\n",
       "13        885   847.112956        40   925.434709\n",
       "14        979  1195.417700        21  1211.720468"
      ]
     },
     "execution_count": 215,
     "metadata": {},
     "output_type": "execute_result"
    }
   ],
   "source": [
    "n_samples = 1000\n",
    "\n",
    "#генерирую линейно зависимые массивы данных\n",
    "shop_area = np.random.choice(1000, n_samples)\n",
    "price = shop_area + 500*np.random.sample(n_samples) \n",
    "promotion = price - 100*np.random.sample(n_samples)\n",
    "employee = np.random.randint(1, 45, n_samples)\n",
    "\n",
    "data = pd.DataFrame({'shop_area': shop_area,'promotion': promotion,'employee': employee, 'price': price})\n",
    "data.head(15)"
   ]
  },
  {
   "cell_type": "code",
   "execution_count": 216,
   "metadata": {},
   "outputs": [
    {
     "data": {
      "text/plain": [
       "<matplotlib.axes._subplots.AxesSubplot at 0x1df27914da0>"
      ]
     },
     "execution_count": 216,
     "metadata": {},
     "output_type": "execute_result"
    },
    {
     "data": {
      "image/png": "[encoded data removed]",
      "text/plain": [
       "<Figure size 432x288 with 2 Axes>"
      ]
     },
     "metadata": {
      "needs_background": "light"
     },
     "output_type": "display_data"
    }
   ],
   "source": [
    "#Убеждаюсь, что объем годовой выручки линейно зависит от рекламы и торговой площади\n",
    "sns.heatmap(data=data.corr(), annot=True)"
   ]
  },
  {
   "cell_type": "code",
   "execution_count": 218,
   "metadata": {},
   "outputs": [
    {
     "name": "stdout",
     "output_type": "stream",
     "text": [
      "Weights: [0.02604934 0.97019072 0.00462273]\n",
      "Bias: 57.07221608214195\n",
      "R2: 0.9917841087977064\n",
      "Error: 24.92233000789253\n"
     ]
    }
   ],
   "source": [
    "#Строим множественную линейную регрессию. Она имеет вид price = 57.07 + 0.026*shop_area + 0.97*promotion + 0.004*employee. \n",
    "#Видим, что наибольший вклад в объем годовых продаж вносит реклама. \n",
    "#Коэффициент детерминации близок к единице => модель хорошо описывает данные. \n",
    "# Средняя абсолютная ошибка  = 24.92\n",
    "from sklearn.metrics import mean_absolute_error\n",
    "\n",
    "X = data[['shop_area', 'promotion', 'employee']]\n",
    "y = data['price']\n",
    "reg = LinearRegression().fit(X, y)\n",
    "print('Weights: {}'.format(reg.coef_))\n",
    "print('Bias: {}'.format(reg.intercept_))\n",
    "print('R2: {}'.format(reg.score(X, y)))\n",
    "pred_values = reg.predict(data[['shop_area', 'promotion', 'employee']])\n",
    "print('Error: {}'.format(mean_absolute_error(pred_values, y)))"
   ]
  },
  {
   "cell_type": "code",
   "execution_count": 220,
   "metadata": {},
   "outputs": [
    {
     "name": "stdout",
     "output_type": "stream",
     "text": [
      "Weights: [0.99107743]\n",
      "Bias: 55.67169954441067\n",
      "R2: 0.991664469891645\n",
      "Error: 25.146190878027358\n"
     ]
    }
   ],
   "source": [
    "#Убрав признаки: 'shop_area', 'employee' - качество модели не поменялось. \n",
    "#Можно сделать вывод, что эти признаки существенно не влияют на модель.\n",
    "X = data[['promotion']]\n",
    "y = data['price']\n",
    "reg = LinearRegression().fit(X, y)\n",
    "print('Weights: {}'.format(reg.coef_))\n",
    "print('Bias: {}'.format(reg.intercept_))\n",
    "print('R2: {}'.format(reg.score(X, y)))\n",
    "pred_values = reg.predict(data[['promotion']])\n",
    "print('Error: {}'.format(mean_absolute_error(pred_values, y)))"
   ]
  },
  {
   "cell_type": "code",
   "execution_count": null,
   "metadata": {},
   "outputs": [],
   "source": []
  }
 ],
 "metadata": {
  "kernelspec": {
   "display_name": "Python 3",
   "language": "python",
   "name": "python3"
  },
  "language_info": {
   "codemirror_mode": {
    "name": "ipython",
    "version": 3
   },
   "file_extension": ".py",
   "mimetype": "text/x-python",
   "name": "python",
   "nbconvert_exporter": "python",
   "pygments_lexer": "ipython3",
   "version": "3.7.3"
  }
 },
 "nbformat": 4,
 "nbformat_minor": 2
}
