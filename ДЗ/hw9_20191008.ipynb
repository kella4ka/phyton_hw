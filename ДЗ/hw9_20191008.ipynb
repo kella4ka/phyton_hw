{
 "cells": [
  {
   "cell_type": "code",
   "execution_count": 66,
   "metadata": {},
   "outputs": [],
   "source": [
    "#Задание №1, Задание №2\n",
    "from datetime import datetime, timedelta\n",
    "start_date = datetime(2018, 9, 1)\n",
    "end_date = datetime(2018, 9, 10)\n",
    "\n",
    "def date_range(*args):\n",
    "    if (end_date - start_date).days < 0:\n",
    "        return []\n",
    "    else:\n",
    "        return [(end_date - timedelta(days = x)) for x in range (1, (end_date - start_date).days + 1)]"
   ]
  },
  {
   "cell_type": "code",
   "execution_count": 67,
   "metadata": {},
   "outputs": [
    {
     "data": {
      "text/plain": [
       "[datetime.datetime(2018, 9, 9, 0, 0),\n",
       " datetime.datetime(2018, 9, 8, 0, 0),\n",
       " datetime.datetime(2018, 9, 7, 0, 0),\n",
       " datetime.datetime(2018, 9, 6, 0, 0),\n",
       " datetime.datetime(2018, 9, 5, 0, 0),\n",
       " datetime.datetime(2018, 9, 4, 0, 0),\n",
       " datetime.datetime(2018, 9, 3, 0, 0),\n",
       " datetime.datetime(2018, 9, 2, 0, 0),\n",
       " datetime.datetime(2018, 9, 1, 0, 0)]"
      ]
     },
     "execution_count": 67,
     "metadata": {},
     "output_type": "execute_result"
    }
   ],
   "source": [
    "date_range(end_date, start_date)"
   ]
  },
  {
   "cell_type": "code",
   "execution_count": 99,
   "metadata": {},
   "outputs": [],
   "source": [
    "#Задание №3\n",
    "stream = ['2018-04-02', '2018-02-29', '2018-19-02']\n",
    "def date_correct(date):\n",
    "    try:\n",
    "        if datetime.strptime(date, '%Y-%m-%d'):\n",
    "            return True  \n",
    "    except ValueError:\n",
    "        return False"
   ]
  },
  {
   "cell_type": "code",
   "execution_count": 100,
   "metadata": {},
   "outputs": [
    {
     "data": {
      "text/plain": [
       "[True, False, False]"
      ]
     },
     "execution_count": 100,
     "metadata": {},
     "output_type": "execute_result"
    }
   ],
   "source": [
    "[date_correct(i) for i in stream]"
   ]
  },
  {
   "cell_type": "code",
   "execution_count": 162,
   "metadata": {},
   "outputs": [],
   "source": [
    "#Задание №5\n",
    "stats_dict = {}\n",
    "line_to_find = ('14','26376','3')\n",
    "n = len(line_to_find)\n",
    "with open('C:\\\\Users\\\\KulkovaAV\\\\Desktop\\\\Phyton\\\\Python_9\\\\stats.csv') as f:\n",
    "    for line in f:\n",
    "        line = line.strip().split(',')\n",
    "        stats_dict[tuple(line[:n])] = line[n]"
   ]
  },
  {
   "cell_type": "code",
   "execution_count": 163,
   "metadata": {},
   "outputs": [
    {
     "name": "stdout",
     "output_type": "stream",
     "text": [
      "13301\n",
      "Wall time: 14 ms\n"
     ]
    }
   ],
   "source": [
    "%%time\n",
    "for i in range(10**4):\n",
    "    cost = stats_dict[line_to_find]\n",
    "    \n",
    "print(cost)"
   ]
  },
  {
   "cell_type": "code",
   "execution_count": null,
   "metadata": {},
   "outputs": [],
   "source": []
  }
 ],
 "metadata": {
  "kernelspec": {
   "display_name": "Python 3",
   "language": "python",
   "name": "python3"
  },
  "language_info": {
   "codemirror_mode": {
    "name": "ipython",
    "version": 3
   },
   "file_extension": ".py",
   "mimetype": "text/x-python",
   "name": "python",
   "nbconvert_exporter": "python",
   "pygments_lexer": "ipython3",
   "version": "3.7.3"
  }
 },
 "nbformat": 4,
 "nbformat_minor": 2
}
