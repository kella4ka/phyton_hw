{
 "cells": [
  {
   "cell_type": "markdown",
   "metadata": {},
   "source": [
    "Прочитать про методы оптимизации для нейронных сетей https://habr.com/post/318970/\n",
    "\n",
    "Реализовать самостоятельно логистическую регрессию\n",
    "\n",
    "Обучить ее методом градиентного спуска\n",
    "Методом nesterov momentum\n",
    "Методом rmsprop\n",
    "\n",
    "\n",
    "В качестве dataset’а взять Iris, оставив 2 класса:\n",
    "Iris Versicolor\n",
    "Iris Virginica"
   ]
  },
  {
   "cell_type": "code",
   "execution_count": 243,
   "metadata": {},
   "outputs": [],
   "source": [
    "from sklearn.datasets import load_iris\n",
    "import matplotlib.pyplot as plt\n",
    "from sklearn.utils import shuffle\n",
    "import pandas as pd\n",
    "import numpy as np\n",
    "import seaborn as sns"
   ]
  },
  {
   "cell_type": "code",
   "execution_count": 244,
   "metadata": {},
   "outputs": [],
   "source": [
    "iris = load_iris()"
   ]
  },
  {
   "cell_type": "code",
   "execution_count": 245,
   "metadata": {},
   "outputs": [],
   "source": [
    "idx = iris.target != 0\n",
    "X = iris.data[idx].astype(np.float32)\n",
    "Y = iris.target[idx].astype(np.float32)"
   ]
  },
  {
   "cell_type": "code",
   "execution_count": 270,
   "metadata": {},
   "outputs": [],
   "source": [
    "# размер данных\n",
    "m, n = np.shape(X)"
   ]
  },
  {
   "cell_type": "code",
   "execution_count": 271,
   "metadata": {},
   "outputs": [],
   "source": [
    "X = np.c_[ np.ones(m), X]"
   ]
  },
  {
   "cell_type": "code",
   "execution_count": 272,
   "metadata": {},
   "outputs": [],
   "source": [
    "# шаг алгоритма\n",
    "alpha = 0.001"
   ]
  },
  {
   "cell_type": "code",
   "execution_count": 313,
   "metadata": {},
   "outputs": [],
   "source": [
    "def gradient_descent(alpha, x, y, numIterations):\n",
    "    \"\"\"\n",
    "    Функция реализует алгоритм градиентного спуска для логистической регрессии.\n",
    "    \n",
    "    \"\"\"\n",
    "    m = x.shape[0] \n",
    "    theta = np.ones(x.shape[1])\n",
    "    x_transpose = x.transpose() \n",
    "    \n",
    "    for iter in range( 0, numIterations ):\n",
    "        hypothesis = 1 / (1 + np.exp(-np.dot(x, theta)))\n",
    "        epsilon = 1e-5\n",
    "        loss = hypothesis - y\n",
    "        J = (1/m)*np.sum(y * np.log(hypothesis + epsilon) - (1 - y) *np.log(1 - hypothesis + epsilon))\n",
    "        gradient = np.dot(x_transpose, loss) /  m \n",
    "        theta = theta - alpha * gradient\n",
    "    \n",
    "    return theta"
   ]
  },
  {
   "cell_type": "code",
   "execution_count": 314,
   "metadata": {},
   "outputs": [
    {
     "name": "stdout",
     "output_type": "stream",
     "text": [
      "Wall time: 272 ms\n"
     ]
    },
    {
     "data": {
      "text/plain": [
       "array([ 6.00000001, 33.94000006, 15.86999998, 28.75999998, 11.1299999 ])"
      ]
     },
     "execution_count": 314,
     "metadata": {},
     "output_type": "execute_result"
    }
   ],
   "source": [
    "%%time\n",
    "theta = gradient_descent(alpha, X, Y, 10000)\n",
    "theta"
   ]
  },
  {
   "cell_type": "code",
   "execution_count": 315,
   "metadata": {},
   "outputs": [],
   "source": [
    "def get_minibatch(X, y, minibatch_size):\n",
    "    minibatches = []\n",
    "\n",
    "    X, y = shuffle(X, y)\n",
    "\n",
    "    for i in range(0, X.shape[0], minibatch_size):\n",
    "        X_mini = X[i:i + minibatch_size]\n",
    "        y_mini = y[i:i + minibatch_size]\n",
    "\n",
    "        minibatches.append((X_mini, y_mini))\n",
    "\n",
    "    return minibatches"
   ]
  },
  {
   "cell_type": "code",
   "execution_count": 316,
   "metadata": {},
   "outputs": [],
   "source": [
    "def gradient(x, y, theta):\n",
    "    m = x.shape[0] \n",
    "    x_transpose = x.transpose() \n",
    "    hypothesis = 1 / (1 + np.exp(-np.dot(x, theta)))\n",
    "    epsilon = 1e-5\n",
    "    loss = hypothesis - y\n",
    "    J = (1/m)*np.sum(y * np.log(hypothesis + epsilon) - (1 - y) *np.log(1 - hypothesis + epsilon))\n",
    "    gradient = np.dot(x_transpose, loss) /  m  \n",
    "    \n",
    "    return gradient"
   ]
  },
  {
   "cell_type": "code",
   "execution_count": 427,
   "metadata": {},
   "outputs": [],
   "source": [
    "def nesterov(X, y, alfa, n_iter):\n",
    "    v0 = np.zeros(X.shape[1])\n",
    "    gamma = 0.9\n",
    "    theta0 = np.ones(X.shape[1]) \n",
    "\n",
    "    for iter in range(1, n_iter + 1):\n",
    "        grad = gradient(X, y, theta0)\n",
    "        vk = gamma*v0 + alfa*grad\n",
    "        thetak = theta0 - vk\n",
    "        v0 = vk\n",
    "        theta0 = thetak\n",
    "        \n",
    "    return thetak"
   ]
  },
  {
   "cell_type": "code",
   "execution_count": 430,
   "metadata": {},
   "outputs": [
    {
     "name": "stdout",
     "output_type": "stream",
     "text": [
      "Wall time: 26.1 ms\n"
     ]
    },
    {
     "data": {
      "text/plain": [
       "array([ 5.95500002, 33.64354013, 15.73617001, 28.51016003, 11.03882992])"
      ]
     },
     "execution_count": 430,
     "metadata": {},
     "output_type": "execute_result"
    }
   ],
   "source": [
    "%%time\n",
    "theta = nesterov(X,Y, alpha, 1000)\n",
    "theta"
   ]
  },
  {
   "cell_type": "code",
   "execution_count": 472,
   "metadata": {},
   "outputs": [],
   "source": [
    "def rmsprop(X, y, alfa, n_iter):\n",
    "    v0 = np.ones(X.shape[1])\n",
    "    gamma = 0.9\n",
    "    theta0 = np.ones(X.shape[1])\n",
    "    epsilon = 1e-5\n",
    "    \n",
    "    for iter in range(1, n_iter + 1):\n",
    "        grad = gradient(X, y, theta0)\n",
    "        vk = gamma * v0 + (1 - gamma) * (grad**2)\n",
    "        thetak = theta0 - alfa * grad /(np.sqrt(vk + eps))\n",
    "        v0 = vk\n",
    "        theta0 = thetak\n",
    "        \n",
    "    return thetak"
   ]
  },
  {
   "cell_type": "code",
   "execution_count": 473,
   "metadata": {},
   "outputs": [
    {
     "name": "stdout",
     "output_type": "stream",
     "text": [
      "Wall time: 6.99 ms\n"
     ]
    },
    {
     "data": {
      "text/plain": [
       "array([1.19255163, 1.20711243, 1.20315903, 1.20650876, 1.20011581])"
      ]
     },
     "execution_count": 473,
     "metadata": {},
     "output_type": "execute_result"
    }
   ],
   "source": [
    "%%time\n",
    "theta = rmsprop(X,Y, alpha, 200)\n",
    "theta"
   ]
  },
  {
   "cell_type": "code",
   "execution_count": null,
   "metadata": {},
   "outputs": [],
   "source": []
  },
  {
   "cell_type": "code",
   "execution_count": null,
   "metadata": {},
   "outputs": [],
   "source": []
  }
 ],
 "metadata": {
  "kernelspec": {
   "display_name": "Python 3",
   "language": "python",
   "name": "python3"
  },
  "language_info": {
   "codemirror_mode": {
    "name": "ipython",
    "version": 3
   },
   "file_extension": ".py",
   "mimetype": "text/x-python",
   "name": "python",
   "nbconvert_exporter": "python",
   "pygments_lexer": "ipython3",
   "version": "3.7.4"
  }
 },
 "nbformat": 4,
 "nbformat_minor": 2
}
